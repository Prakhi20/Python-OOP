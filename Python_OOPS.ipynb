{
  "nbformat": 4,
  "nbformat_minor": 0,
  "metadata": {
    "colab": {
      "provenance": [],
      "authorship_tag": "ABX9TyOSKmYegTN/Pkx0l2tFguKb",
      "include_colab_link": true
    },
    "kernelspec": {
      "name": "python3",
      "display_name": "Python 3"
    },
    "language_info": {
      "name": "python"
    }
  },
  "cells": [
    {
      "cell_type": "markdown",
      "metadata": {
        "id": "view-in-github",
        "colab_type": "text"
      },
      "source": [
        "<a href=\"https://colab.research.google.com/github/Prakhi20/Python-OOP/blob/main/Python_OOPS.ipynb\" target=\"_parent\"><img src=\"https://colab.research.google.com/assets/colab-badge.svg\" alt=\"Open In Colab\"/></a>"
      ]
    },
    {
      "cell_type": "markdown",
      "source": [
        "# Python-OOPS"
      ],
      "metadata": {
        "id": "ALRrCkC9yh_J"
      }
    },
    {
      "cell_type": "markdown",
      "source": [
        "## Theoretical Question"
      ],
      "metadata": {
        "id": "ohOSKwPGy4B-"
      }
    },
    {
      "cell_type": "markdown",
      "source": [
        "1. What is Object-Oriented Programming (OOP) ?\n",
        "    - Object-Oriented Programming (OOP) is a programming paradigm based on the concept of \"objects\", which can contain data (in the form of fields, often called attributes or properties) and code (in the form of methods or functions).\n",
        "    - **KEY CONCEPTS OF OOP**:\n",
        "           - (1) Class:- A Blueprint for creating objects. It defines the properties and behaviors of an object.\n",
        "           - (2) Object: An instance of a class. It represents a specific implementation of the class with actual values.\n",
        "           - (3) Encapsulation: The bundling of data and methods that operate on that data within one unit (class), often restricting direct access to some components.\n",
        "           - (4) Inheritance: The mechanism by which one class can inherit properties and methods from another, promoting code reuse.\n",
        "           - (5) Polymorphism: The ability to present the same interface for different underlying forms (e.e.g., method overloading or overriding).\n",
        "           - (6) Abstraction: Hiding complex implementation details and showshowing only the necessary features of an object.\n",
        "          "
      ],
      "metadata": {
        "id": "I_sLW6AVzBOv"
      }
    },
    {
      "cell_type": "code",
      "source": [
        "# Example of object-oriented programming (OOP):\n",
        "class Animal:\n",
        "    def speak(self):\n",
        "      print(\"Animal speaks\")\n",
        "\n",
        "class Dog(Animal):\n",
        "    def speak(self):\n",
        "      print(\"Dog barks\")\n",
        "\n",
        "dog = Dog()\n",
        "dog.speak()"
      ],
      "metadata": {
        "colab": {
          "base_uri": "https://localhost:8080/"
        },
        "id": "-X2lzUL20tv0",
        "outputId": "c30337c5-7362-4aba-8c33-4e5a0a15f041"
      },
      "execution_count": null,
      "outputs": [
        {
          "output_type": "stream",
          "name": "stdout",
          "text": [
            "Dog barks\n"
          ]
        }
      ]
    },
    {
      "cell_type": "markdown",
      "source": [
        "2. What is a class in OOP ?\n",
        "   - A class in Python, within the context of object-oriented programming (OOP), serves as a blueprint for creating objects. It encapsulates data (attributes) and behavior (methods) into a single unit. Classes define the structure and functionality that objects of that clas will possess."
      ],
      "metadata": {
        "id": "Z32BbKGO1m02"
      }
    },
    {
      "cell_type": "code",
      "source": [
        "# Example of class in OOP:\n",
        "class Dog:\n",
        "  species = \"Canis familiaris\"\n",
        "  def __init__(self, name, age):\n",
        "    self.name = name\n",
        "    self.age = age\n",
        "  def _init_(self, name, age):\n",
        "    self.name = name\n",
        "    self.age = age\n",
        "  def bark(self):\n",
        "    return \"woof!\"\n",
        "dog1 = Dog(\"Buddy\", 3)\n",
        "dog2 = Dog(\"Bella\", 5)\n",
        "print(dog1.name)\n",
        "print(dog2.bark())\n",
        "\n",
        "\n"
      ],
      "metadata": {
        "colab": {
          "base_uri": "https://localhost:8080/"
        },
        "id": "i2PII_i508fi",
        "outputId": "198fea63-bf9e-4dfb-fe70-bd1bbd3c0b8a"
      },
      "execution_count": null,
      "outputs": [
        {
          "output_type": "stream",
          "name": "stdout",
          "text": [
            "Buddy\n",
            "woof!\n"
          ]
        }
      ]
    },
    {
      "cell_type": "markdown",
      "source": [
        "In the above eample, Dog is a class.class. name and age areinstance variables, specific to eachdog object, while species is a class variable , shared among all dog objects. The bark function is a method, defining an action a Dog object can perform. dog1 and dog2 are instances, or objects, of the Dog class."
      ],
      "metadata": {
        "id": "BVpC8vZBX62Z"
      }
    },
    {
      "cell_type": "markdown",
      "source": [
        "3. what is an object in OOP?\n",
        "   - In Python, an object is a fundamental concept in object-oriented Programming (OOP). It is an instance of a class, which serves as a blueprint for creating objects. An object encapsulates data (attributes) and behavior (methods) into a single entity.\n",
        "\n",
        "   **Every object has three key characteristics**:\n",
        "       - Identity: A unique identifier that distinguishes it from other objects.\n",
        "       - State: Represented by its attributes, which hold the object's data.\n",
        "       - Behavior: Defined by its methods, which are functions that operate on the object's data.\n",
        "\n",
        "    - when a class is defined, it acts as a template. when you create an objvect from that class, you are essentially creating a concrete instance with its own specific data values for the attributes defined in the class. Different objects created from the same clasclass will have the same types of attributes and methods, but their attribute values can vary.\n",
        "      \n",
        "\n"
      ],
      "metadata": {
        "id": "a5-SFFcLZmGX"
      }
    },
    {
      "cell_type": "code",
      "source": [
        "# example for objects in OOP:\n",
        "class Dog:\n",
        "    def __init__(self, name, breed):\n",
        "        self.name = name\n",
        "        self.breed = breed\n",
        "\n",
        "    def bark(self):\n",
        "        return \"Woof!\"\n",
        "my_dog = Dog(\"Buddy\", \"Golden Retriever\")\n",
        "your_dog = Dog(\"Max\", \"German Shepherd\")\n",
        "print(my_dog.name)\n",
        "print(your_dog.breed)\n",
        "print(your_dog.bark())"
      ],
      "metadata": {
        "colab": {
          "base_uri": "https://localhost:8080/"
        },
        "id": "ESp6nNASZksi",
        "outputId": "d167047a-5a77-4c77-fce8-cb6204b1667c"
      },
      "execution_count": null,
      "outputs": [
        {
          "output_type": "stream",
          "name": "stdout",
          "text": [
            "Buddy\n",
            "German Shepherd\n",
            "Woof!\n"
          ]
        }
      ]
    },
    {
      "cell_type": "markdown",
      "source": [
        "4. what is the difference between abstraction and encapsulation ?\n",
        "    - Abstraction and encapsulation are two fundamental concepts in object-oriented programming, but they serve diferent purposes;\n",
        "     \n",
        "     1. **Abstraction**:\n",
        "            - Definiation: Abstraction is the process of hiding complex implementation details and showing only the essential features of an object.\n",
        "            - Purpose: To reduce Complexity and increase efficiency by exposing oonly what is necessary.\n",
        "            - Example: A car's interface allows you to drive it without knowing how the engine works. In code, an abstract class or interface defines what shshould be done, not how.\n",
        "      2. **Encapsulation**:\n",
        "           - Definition: Encapsulation is the process of bundling data (variables) and methods that operate on that data into a single unit (class), and restricting access to some of the object's components.\n",
        "           - Purpose: To protect the internal state of an object and ensure that it is used only in intended ways.\n",
        "           - Example: marking class variables private and accessing them via getter and setter methods.\n",
        "\n",
        "   #### KEY DIFFERENCES:\n",
        "         (a) FOCUS:\n",
        "                - Abstrction is a hiding coplexity.\n",
        "                - Encapsulation is a hiding Data.\n",
        "         (b) GOAL:\n",
        "                - Abstraction Expose only Essential features.\n",
        "                - Encapsulation Protect and restrict access to data.\n",
        "         (c) IMPLEMENTATION:\n",
        "                - Abstraction achieved using interfaces or abstract classes.\n",
        "                - Encapsulation achieved using access modifiers (pricate, Public)\n",
        "         (d) USE:      \n",
        "                - Abstraction is to define a template.\n",
        "                - Encapsulation is to ensure control over data.                            "
      ],
      "metadata": {
        "id": "-Bi8x4u4d4XG"
      }
    },
    {
      "cell_type": "markdown",
      "source": [
        "5. What are Dunder method in Python ?\n",
        "    - Dunder methods, also known as magic methods, are special methods in Python that begin and end with double underscores (e.g., __init__, __str__, __len__). they allow classes to define how they behave with builtbuilt-in Python operations. When a dunder method is defined in a class, it overrides the defult behavior for that operation for instances of that class.\n",
        "  \n",
        "  **Common Dunder methods include**:\n",
        "     - __init__: Constructor for initializing objects.\n",
        "     - __str__: Returns a string representation of the object.\n",
        "     - __repr__: Returns a detailed string representation of the object.\n",
        "     - __len__: Returns the length of the object.\n",
        "     - __add__, __sub__, __mul__, __truediv__: Defines behavior for arithmetic operators.\n",
        "     - __eq__, __ne__, __It__, __gt__, __le__, __ge__:Defines behavior for comparison operators.\n",
        "     - __getitem__, __setitem__, __delitem__: Enables indexing and slicing.\n",
        "     - __iter__, __next__: Enables iteration.\n",
        "     - __call__: Allows an object to be called like function.\n",
        "\n",
        "  **Example**\n",
        "      - For Example, the __init__ method is a constructor that initializes the objects's attributes when an instance of the class is created. The __str__method returns a string representation of the object, and the __len__ method returns the length of the Object.\n",
        "      - Dunder Methods enables operator overloading, allowing instnces of a class to interact with Python operators like +,-,*,/,==,<,>, etc. By defining the appropriate dunder methods, a class can specify how these operators should behave when applied to its instances.\n",
        "         "
      ],
      "metadata": {
        "id": "ehWJPlctjcPu"
      }
    },
    {
      "cell_type": "code",
      "source": [
        "## IIn Python Programming:\n",
        "class Vector:\n",
        "  def __init__(self, x, y):\n",
        "    self.x = x\n",
        "    self.y = y\n",
        "  def __add__(self, other):\n",
        "    return Vector(self.x + other.x, self.y + other.y)\n",
        "  def __str__(self):\n",
        "    return f\"({self.x}, {self.y})\"\n",
        "v1 = Vector(1, 2)\n",
        "v2 = Vector(3, 4)\n",
        "v3 = v1 + v2\n",
        "print(v3)"
      ],
      "metadata": {
        "colab": {
          "base_uri": "https://localhost:8080/"
        },
        "id": "hX5zKNSBcqgg",
        "outputId": "0586366f-c3db-41db-9b43-96a325aabecf"
      },
      "execution_count": null,
      "outputs": [
        {
          "output_type": "stream",
          "name": "stdout",
          "text": [
            "(4, 6)\n"
          ]
        }
      ]
    },
    {
      "cell_type": "markdown",
      "source": [
        "6. Explain the Concept of inheritance in OOP.\n",
        "    - Inheritance is a fundamental concept in object-Oriented Programming (OOP) that allows a clasclass (called the subclass or derived class) to inherit properties and behaviors (fields and methods) from another class (called the superclass or base class).\n",
        "\n",
        "  **Key Point**:  \n",
        "     - **Code Reusbability**:- Inheritance promotes reuse of existing code by allowiallowing new classes to build upon existing ones.\n",
        "     - **Hierarchy**:- It establishes a natural hierarchy between general and specific classes.\n",
        "     - **Method Overriding**:- Subclasses can modify or extend the behavior of methods inherited from the superclass.\n",
        "\n",
        "\n",
        "       "
      ],
      "metadata": {
        "id": "c6lV-OSQs7lf"
      }
    },
    {
      "cell_type": "code",
      "source": [
        "# example of inheritance in OOP:\n",
        "class Animal:\n",
        "  def speak(self):\n",
        "    print(\"Animal speaks\")\n",
        "class Dog(Animal):\n",
        "  def speak(self):\n",
        "    print(\"Dog barks\")\n",
        "class Cat(Animal):\n",
        "  def speak(self):\n",
        "    print(\"Cat meows\")\n",
        "d = Dog()\n",
        "d.speak()\n",
        "c = Cat()\n",
        "c.speak()"
      ],
      "metadata": {
        "colab": {
          "base_uri": "https://localhost:8080/"
        },
        "id": "5XY-rpcZp0Fz",
        "outputId": "51e34e57-5044-4501-890b-63ad1bf0cdff"
      },
      "execution_count": null,
      "outputs": [
        {
          "output_type": "stream",
          "name": "stdout",
          "text": [
            "Dog barks\n",
            "Cat meows\n"
          ]
        }
      ]
    },
    {
      "cell_type": "markdown",
      "source": [
        "         - Here, Dog and Cat are inherits the speak() method from animal but overrides it with its own version.\n",
        "         "
      ],
      "metadata": {
        "id": "7jDxD5yrwks5"
      }
    },
    {
      "cell_type": "markdown",
      "source": [
        "7. What is polymorphism in OOP ?\n",
        "   - In Object-Oriented Programming (OOP), Polymorphism means \"many forms\". It's the ability of an object to take on various forms, allowing different objects to respond differently to the same method call. Essentially, it lets you use the same interface for different types of objects, making your code more flexible and adaptable.\n",
        "   - Here's:\n",
        "       - **One Interface, Multiple Forms**:- Polymorphism provides a single, unified interface that can handle different objects or classes, even if they have different implementations.\n",
        "       - **Flexibility and extensibility**:- It enables you to add new classes to your system without modifying existing ones, enhancing the flexibility and extensibility of your code.\n",
        "       - **Example (Method Overriding)**:- Imagine a class called Animal with a method makeSound(). Then, you have Subclasses like Dog, Cat, and Pig, each inheriting Animal and providing their own unique implementation of makeSound() (e.g., Dog would bark, Cat would meow, and Pig would oink). This demonstrates how different objects (Dog, Cat, Pig) can respond differently to the same method call (make sound).\n",
        "\n",
        "  **Key Concepts**:\n",
        "        - Polymorphism relies on concepts like methodoverriding, where subclasses provide their own specific implementation of a method inherited from a superclass, and function overloading, where you can define multiple methods with the same name but different parameters.\n",
        "\n",
        "   **Importance**:-\n",
        "        - Polymorphism is a cornerstone of OOP, making your code more maintainable, adaptable, and reusable.     \n",
        "\n"
      ],
      "metadata": {
        "id": "JVNJsX7hw13z"
      }
    },
    {
      "cell_type": "markdown",
      "source": [
        "8. How is encapsulation achieved in Python ?\n",
        "    - Encapsulation in python is achieved by restricting access to attributes and methods, effectively hiding the internal state of an object and preventing unintended ecternal modifications. Python uses naming conventions, specifically underscores, to indicate the intended visibility of class embers.\n",
        "          - Public Member:- accessile from anywhere.\n",
        "          - Protected members:- Indicated by a single underscore prefix(e.g., __attribute). They are intended for internal use within the class and its subclasses, but can still be accessed from outside.\n",
        "          - Private members:- Indicated by a double underscore prefix (e.g., _attribute). Python applies name mangling to make them harder to access directly from outside the class, though it's still possible.\n",
        "\n",
        "    - Encapsulation can be implemented using properties, which allow controllcontrolled access to attributes through getter and setter methods. This provides a way to add logic or validtion when getting or seting the value of an attribute.      \n"
      ],
      "metadata": {
        "id": "uCKURgiTDvRL"
      }
    },
    {
      "cell_type": "markdown",
      "source": [
        "9. What is a constructor in Pyhton?\n",
        "   - In Python, a constructor is a special method used to initialize a newly created object of a class. The constructor method in Python is called __init__.\n",
        "\n",
        "  **Syntax**:\n",
        "      - class Myclass:\n",
        "            def __init__(self, arg1, arg2):\n",
        "                 self.arg1 = arg1\n",
        "                 self.arg2 = arg2\n",
        "\n",
        "  **Key Point**:\n",
        "      - the method name is always __init__.\n",
        "      - It is automatically called when a new object of the class is created.\n",
        "      - It is typically used to set up instance variables (i.e., initialize object state).\n",
        "                  \n",
        "\n",
        "      "
      ],
      "metadata": {
        "id": "ZFukOzxcHyMt"
      }
    },
    {
      "cell_type": "code",
      "source": [
        "## example:\n",
        "class person:\n",
        "  def __init__(self, name, age):\n",
        "    self.name = name\n",
        "    self.age = age\n",
        "  def introduce(self):\n",
        "    print(f\"Hi, my name is {self.name} and I am {self.age} years old.\")\n",
        "person1 = person(\"Alice\", 25)\n",
        "person1.introduce()"
      ],
      "metadata": {
        "colab": {
          "base_uri": "https://localhost:8080/"
        },
        "id": "xDGB6Eb1v4cm",
        "outputId": "8a93667a-54dc-4f27-df90-377cc44ffcd6"
      },
      "execution_count": null,
      "outputs": [
        {
          "output_type": "stream",
          "name": "stdout",
          "text": [
            "Hi, my name is Alice and I am 25 years old.\n"
          ]
        }
      ]
    },
    {
      "cell_type": "markdown",
      "source": [
        "10. What are class nd static methods in Python?\n",
        "   - In Pyhton, Class method ad static method are two types of methods that behave differently from regular instance methods. here's a breakdown;\n",
        "\n",
        "   **Class Method**:\n",
        "      - Definition: a method that takes the class (cls) as its first argument.\n",
        "      - Decorator: @classmethod\n",
        "      - Use Case: Used when you need to access or modify the class state, not the instance state.\n",
        "\n",
        "   **Static Method**:\n",
        "      - Definition: a method that doesnot take self or cls as the frst argument.\n",
        "      - decorator: @staticmethod\n",
        "      - Use Case: Used for utility functions that are related to the class but don't need class or instance data.  "
      ],
      "metadata": {
        "id": "2LwdjPfVJ9z4"
      }
    },
    {
      "cell_type": "markdown",
      "source": [
        "11. What is method overloading in Python ?\n",
        "     - Method overloading in traditional object-oriented programming (like Java or C++) allows multiple methods in the same class with the same name but different parameters (number or type). However, Python does not support method overloading in the same way.\n",
        "\n",
        "**Python's Approch**:- In Python, only the last defined method with given name is used-used-previous ones are overwritten.\n",
        "\n",
        "**Workaround: Default Arguments or \"args/\"\"kwargs**:- Python achieves overloading-like behavior using default arguments or variablevariable-length aeguments.\n",
        "\n",
        "           "
      ],
      "metadata": {
        "id": "4v_f3Bf2L_u7"
      }
    },
    {
      "cell_type": "markdown",
      "source": [
        "12. what is method overriding in OOP ?\n",
        "    - Method Overriding in Python is a feature of object-oriented programming where a subclass provides a different implementation for a method already defined in its superclass.\n",
        "    - When a method in a subclass has the same name and parameters as a method in its superclass, the subclass's method overrides the superclass's method.\n",
        "    - This allows objects of subclass to use the overridden method instead of the original method from the superclass."
      ],
      "metadata": {
        "id": "GCmtby3WOIa2"
      }
    },
    {
      "cell_type": "markdown",
      "source": [
        "13. What is a property decorator in Python?\n",
        "  - In Python, a property decorator is a built-in feature that allows methods to be accessed like attributes. It Provides a modification logic within getter, setter, and deleter methods, while presenting a clean and intuitive interface to the user."
      ],
      "metadata": {
        "id": "gZ25zUazQIic"
      }
    },
    {
      "cell_type": "markdown",
      "source": [
        "14. Why is polymorphism important in OOP?\n",
        "   - Polymorphism is crucial iin Object-Oriented Programming (OOP) because it enables objects of different classes to be treated as objects of common type, promoting code reusability, flexibility, and maintainability.\n",
        "   - It allows for single interface to be used for different operations, while each class can implement it in its own specific way."
      ],
      "metadata": {
        "id": "J6WrNZRtSJnQ"
      }
    },
    {
      "cell_type": "markdown",
      "source": [
        "15. What is an Abstract class in Python ?\n",
        "    - In Python, an abstract class serves as a blueprint for other classes, defining methods that subclasses must implement. It cannot be instantiated directly and is created using the abc module and the ABC class. Abstract methods, denoted by the @abstractmethod decorator, are declared in the abstract class without implementation, requiring subclasses to provide their own implementations."
      ],
      "metadata": {
        "id": "_17_aecRTPI8"
      }
    },
    {
      "cell_type": "markdown",
      "source": [
        "16. What are the advantages of OOP ?\n",
        "  - Objecte-oriented Programming (oop) offers several advantages, Primarily enhancing code rganization, resuability, and maintainability. Key benefits include modularity, Code reuse through inheritance, flexibility with Polymorphism, and simplified problem-soproblem-solving. These advantages make OOP particularly useful for developing large, complex software systems."
      ],
      "metadata": {
        "id": "dyynkRiKUavG"
      }
    },
    {
      "cell_type": "markdown",
      "source": [
        "17. What is teh differnece between a class variable and an instance variable?\n",
        "  - Class variablevariables (also known as static variables) are shared among all instance of a class, meaning they have one copy for the entire class. Instance variable, on the other hand, are specific to each individual object (instance) of the class, with each object having its own copy of the instance variables."
      ],
      "metadata": {
        "id": "aTfpo6DxWajE"
      }
    },
    {
      "cell_type": "markdown",
      "source": [
        "18. What is multiple inheritance in Python ?\n",
        "   - Multiple inheritance in Python Is a feature that allows a class to inherit attributes and methods from multiple parent calsses. this means a child class can combine the functionalities of several independent classes, enabling code resue and more flexible class design. When defined a class that inherits from multiple parents, the parent classes are listed within parentheses after the class name, in the order of inheritance.\n"
      ],
      "metadata": {
        "id": "Kk6azUeIX0Gq"
      }
    },
    {
      "cell_type": "markdown",
      "source": [
        "19. explain the purpose of \"__str__\" and \"__repr__\" method in python?\n",
        "   - the \"__str__\" and \"__repr__\" methods in python are special methods used to define how objects are represented as strings. they are essential for providing meaningful output when an object is converted to string or displayed.\n",
        "\n",
        "   **__str__**:\n",
        "     - this method aims to return a useruser-friendly, informal strinbg representation of an object. It is called when the str() function is used or when the print() function is used to display the object. If __str__ is not defined, Python falls back to using __repr__.\n",
        "\n",
        "   **__repr__**:\n",
        "     - This method aims to return an unambiguous, detailed string representation of an object, primarily for developers and debugging ideally, the string returned by __repr__ should be a valid Python expression that can be used to recrate the object. It is called when the repr() function is used or in the interactive interpreteer.  "
      ],
      "metadata": {
        "id": "83JaheFTZPUS"
      }
    },
    {
      "cell_type": "markdown",
      "source": [
        "20. what is the significance of the \"Super()\" function in Python ?\n",
        "   - the Super() function in Python is used to call methods from a parent class in a subclass. It returns a proxy object that allows access to the parent class's methods. this is particularly useful in scenarios extends or overrides the functionality of its parent class."
      ],
      "metadata": {
        "id": "1uR3DDWabxuK"
      }
    },
    {
      "cell_type": "markdown",
      "source": [
        "21. What is the significance of the __del__ method in Python?\n",
        "  - The __del__ method in Python, Also known as a destructor, is called when an object is garbage collected, immediately before it is destroyed. It provides an opportunity to clean up resources held by the object, such as closing files or releasing external connection. However, relying on __del__ for resource management is generally discouraged due to the uncertainty of when it will be called."
      ],
      "metadata": {
        "id": "mD3zPLYlc1k2"
      }
    },
    {
      "cell_type": "markdown",
      "source": [
        "22. what is the difference between @staticmethod and @classmethod in Python?\n",
        "  - the key difference between @staticmethod and @classmethod in Python lies in their interaction with the class and its instances:\n",
        "\n",
        "**@staticmethod**:-\n",
        "  - this decorator defines a method that is bound to the class but doesnot recive the class or instance as an implicit first argument. It behaves like a regular function, but is logical grouped within the class. It cannot access or modify class or instance attributes.\n",
        "\n",
        "**@classmethod**:-\n",
        "  - This decorator defines a method that receives the class itself as the first argument, conventionally named Cls. It can access and modify class-level attributes, and can be used to create factory methods or alternative constructors. It does not have access to instance-specific attributes.      "
      ],
      "metadata": {
        "id": "odVyWlw4eVH-"
      }
    },
    {
      "cell_type": "markdown",
      "source": [
        "23. How does polymorphism work in Python with inheritance?\n",
        "   - Polymorphism in Python, in the context of inheritance, enables objects of different classes to repond to the same method call in a way that is specific to their class. This is achieved through method overriding, where a subclass provides its own implementation of a method that is already defined in its parent class. when a method is called on an object, Python checks the object's class to determine which implementation of the method to execute."
      ],
      "metadata": {
        "id": "S1K5gt9xgsTU"
      }
    },
    {
      "cell_type": "markdown",
      "source": [
        "24. What is method chaining in Python OOP?\n",
        "    - Method chaining in Python is a Programming technique used in object-oriented programming where multiple methods are called sequentially on the same object in a single line of code. This is achieved by having each method in the sequence return the object instance (self) after performing its operation. this allows the next method in the chain to be called immediately on the returned"
      ],
      "metadata": {
        "id": "dBfpMF1tgsG_"
      }
    },
    {
      "cell_type": "markdown",
      "source": [
        "25. What is the purpose of the __call__ method in Python ?\n",
        "   - The __call__ method in Python enables instances of a class to be called like regular functions. When a class defines the __call__ method, its instances become callable objects. This means that you can apply the function call syntax () to an instance, and the code within the __call__ method will be executed. The primary purpose of __call__ is to allow objects to encapsulate state and behavior, making them more flexible and powerful than simple functions."
      ],
      "metadata": {
        "id": "q_vJEchDgt5y"
      }
    },
    {
      "cell_type": "markdown",
      "source": [
        "## Practical Questions:"
      ],
      "metadata": {
        "id": "p-uZA4sxkAxv"
      }
    },
    {
      "cell_type": "code",
      "source": [
        "#1. Create a parent class Animal with a method speak() that print a generic message . Create a child class Dog that overrides the speak() method to print \"Bark!\".\n",
        "class Animal:\n",
        "  def speak(self):\n",
        "    print(\"The animal makes a sound.\")\n",
        "class Dog(Animal):\n",
        "  def speak(self):\n",
        "    print(\"The dog barks.\")\n",
        "animal = Animal()\n",
        "animal.speak()\n",
        "dog = Dog()\n",
        "dog.speak()"
      ],
      "metadata": {
        "colab": {
          "base_uri": "https://localhost:8080/"
        },
        "id": "YA1QyfCckID-",
        "outputId": "23bc47f4-77d4-4d35-a0eb-ef412625d409"
      },
      "execution_count": null,
      "outputs": [
        {
          "output_type": "stream",
          "name": "stdout",
          "text": [
            "The animal makes a sound.\n",
            "The dog barks.\n"
          ]
        }
      ]
    },
    {
      "cell_type": "code",
      "source": [
        "#2. write a program to create an abstract class Shape with a method area(). Derive Classes Circle and Recangle from it and implement the area() method in both.\n",
        "from abc import ABC, abstractmethod # Import ABC and abstractmethod from abc module\n",
        "\n",
        "\n",
        "class  Shape(ABC):\n",
        "  @abstractmethod\n",
        "  def area(self):\n",
        "    pass\n",
        "class Circle(Shape):\n",
        "  def __init__(self, radius):\n",
        "    self.radius = radius\n",
        "  def area(self):\n",
        "    return 3.14 * self.radius * self.radius\n",
        "class Rectangle(Shape):\n",
        "  def __init__(self, length, width):\n",
        "    self.length = length\n",
        "    self.width = width\n",
        "  def area(self):\n",
        "      return self.length * self.width\n",
        "c = Circle(5)\n",
        "print(\"Area of Circle:\", c.area())\n",
        "\n",
        "r = Rectangle(4, 6)\n",
        "print(\"Area of Rectangle:\", r.area())"
      ],
      "metadata": {
        "colab": {
          "base_uri": "https://localhost:8080/"
        },
        "id": "WwqjgDXwnqmf",
        "outputId": "925c0ac7-1490-4c51-9c00-fc3292f45d19"
      },
      "execution_count": null,
      "outputs": [
        {
          "output_type": "stream",
          "name": "stdout",
          "text": [
            "Area of Circle: 78.5\n",
            "Area of Rectangle: 24\n"
          ]
        }
      ]
    },
    {
      "cell_type": "code",
      "source": [
        "#4. Demonstrate Polymorphism by creating a base class Bird with a method fly(). Create two derived classes sparrow and penguin that override the fly() method.\n",
        "class Bird:\n",
        "   def fly(self):\n",
        "    print(\"This bird can fly.\")\n",
        "class Sparrow(Bird):\n",
        "   def fly(self):\n",
        "    print(\"Sparrow flies high in the sky.\")\n",
        "class Penguin(Bird):\n",
        "   def fly(self):\n",
        "    print(\"Penguins can't fly, but they swim well.\")\n",
        "\n",
        "def show_flight(bird):\n",
        "    bird.fly()\n",
        "\n",
        "sparrow = Sparrow()\n",
        "penguin = Penguin()\n",
        "show_flight(sparrow)\n",
        "show_flight(penguin)"
      ],
      "metadata": {
        "colab": {
          "base_uri": "https://localhost:8080/"
        },
        "id": "ofqjjn20tYno",
        "outputId": "2a03a7e7-66df-4bca-e4ab-b97719199576"
      },
      "execution_count": 13,
      "outputs": [
        {
          "output_type": "stream",
          "name": "stdout",
          "text": [
            "Sparrow flies high in the sky.\n",
            "Penguins can't fly, but they swim well.\n"
          ]
        }
      ]
    },
    {
      "cell_type": "code",
      "source": [
        "#5. write a program to demonstrate encapsulation by creating a class Bank Account with private attribute balance and methods to deposit, with draw and check balance.\n",
        "class BankAccount:\n",
        "    def __init__(self, initial_balance=0):\n",
        "\n",
        "        self.__balance = initial_balance\n",
        "\n",
        "    def deposit(self, amount):\n",
        "        if amount > 0:\n",
        "            self.__balance += amount\n",
        "            print(f\"Deposited: ${amount}\")\n",
        "        else:\n",
        "            print(\"Deposit amount must be positive.\")\n",
        "\n",
        "    def withdraw(self, amount):\n",
        "        if amount > self.__balance:\n",
        "            print(\"Insufficient funds.\")\n",
        "        elif amount <= 0:\n",
        "            print(\"Withdrawal amount must be positive.\")\n",
        "        else:\n",
        "            self.__balance -= amount\n",
        "            print(f\"Withdrawn: ${amount}\")\n",
        "\n",
        "    def check_balance(self):\n",
        "        print(f\"Current balance: ${self.__balance}\")\n",
        "\n",
        "\n",
        "\n",
        "account = BankAccount(100)\n",
        "account.deposit(50)\n",
        "account.withdraw(30)\n",
        "account.check_balance()\n",
        "\n"
      ],
      "metadata": {
        "colab": {
          "base_uri": "https://localhost:8080/"
        },
        "id": "ea_S7nwUt6Xn",
        "outputId": "729bc76e-ab77-4bb1-f9ca-49769743615e"
      },
      "execution_count": 14,
      "outputs": [
        {
          "output_type": "stream",
          "name": "stdout",
          "text": [
            "Deposited: $50\n",
            "Withdrawn: $30\n",
            "Current balance: $120\n"
          ]
        }
      ]
    },
    {
      "cell_type": "code",
      "source": [
        "#6. Demonstrate runtime polymorphism using a method play() in a base class instrument. Derive classes Guitar and Piano that implement their own version of play().\n",
        "class Instrument:\n",
        "  def play(self):\n",
        "    print(\"This instrument is playing.\")\n",
        "class Guitar(Instrument):\n",
        "  def play(self):\n",
        "    print(\"Guitar is playing.\")\n",
        "class Piano(Instrument):\n",
        "  def play(self):\n",
        "    print(\"Piano is playing.\")\n",
        "def start_playing(instrument):\n",
        "  instrument.play()\n",
        "\n",
        "g = Guitar()\n",
        "p = Piano()\n",
        "start_playing(g)\n",
        "start_playing(p)"
      ],
      "metadata": {
        "colab": {
          "base_uri": "https://localhost:8080/"
        },
        "id": "lSa1ZrukvE85",
        "outputId": "29385c68-5067-44bf-99ba-9b18aac15037"
      },
      "execution_count": 24,
      "outputs": [
        {
          "output_type": "stream",
          "name": "stdout",
          "text": [
            "Guitar is playing.\n",
            "Piano is playing.\n"
          ]
        }
      ]
    },
    {
      "cell_type": "code",
      "source": [
        "#7. Create a class Mathoperations with a class method add_number() to add two number and a static method subtract_number() to subtract two numbers.\n",
        "class MathOperations:\n",
        "    @classmethod\n",
        "    def add_number(cls, a, b):\n",
        "        return a + b\n",
        "\n",
        "    @staticmethod\n",
        "    def subtract_number(a, b):\n",
        "        return a - b\n",
        "\n",
        "# Example usage:\n",
        "print(MathOperations.add_number(10, 5))\n",
        "print(MathOperations.subtract_number(10, 5))\n"
      ],
      "metadata": {
        "colab": {
          "base_uri": "https://localhost:8080/"
        },
        "id": "JgoJ5Ktmv3lN",
        "outputId": "0e42532b-a15b-4453-85f4-d5588b63440c"
      },
      "execution_count": 25,
      "outputs": [
        {
          "output_type": "stream",
          "name": "stdout",
          "text": [
            "15\n",
            "5\n"
          ]
        }
      ]
    },
    {
      "cell_type": "code",
      "source": [
        "#8. implement a class person with a class method to count the total number of persons created.\n",
        "class Person:\n",
        "    count = 0\n",
        "\n",
        "    def __init__(self, name):\n",
        "        self.name = name\n",
        "        Person.count += 1\n",
        "\n",
        "    @classmethod\n",
        "    def total_persons(cls):\n",
        "        return cls.count\n",
        "\n",
        "\n",
        "p1 = Person(\"Alice\")\n",
        "p2 = Person(\"Bob\")\n",
        "p3 = Person(\"Charlie\")\n",
        "\n",
        "print(\"Total persons created:\", Person.total_persons())\n"
      ],
      "metadata": {
        "colab": {
          "base_uri": "https://localhost:8080/"
        },
        "id": "FD6wWv7nx3_i",
        "outputId": "f6a0d4cb-d964-4129-e181-e708a20dd8f3"
      },
      "execution_count": 26,
      "outputs": [
        {
          "output_type": "stream",
          "name": "stdout",
          "text": [
            "Total persons created: 3\n"
          ]
        }
      ]
    },
    {
      "cell_type": "code",
      "source": [
        "#9. Write a class fraction with attributes numerator and denominator. Override the str. method to dislay the fraction as \"numerator/denominator\".\n",
        "class Fraction:\n",
        "    def __init__(self, numerator, denominator):\n",
        "        self.numerator = numerator\n",
        "        self.denominator = denominator\n",
        "\n",
        "    def __str__(self):\n",
        "        return f\"{self.numerator}/{self.denominator}\"\n",
        "\n",
        "\n",
        "f = Fraction(3, 4)\n",
        "print(f)\n"
      ],
      "metadata": {
        "colab": {
          "base_uri": "https://localhost:8080/"
        },
        "id": "Jv4CbdL2yWPW",
        "outputId": "c6c0abd4-f85f-4efe-f98e-09c9d6e36402"
      },
      "execution_count": 27,
      "outputs": [
        {
          "output_type": "stream",
          "name": "stdout",
          "text": [
            "3/4\n"
          ]
        }
      ]
    },
    {
      "cell_type": "code",
      "source": [
        "#10. Demonstrate operator overloading by creating a class vector and overriding the add method to add two vectors.\n",
        "class Vector:\n",
        "    def __init__(self, x, y):\n",
        "        self.x = x\n",
        "        self.y = y\n",
        "\n",
        "    def __add__(self, other):\n",
        "        return Vector(self.x + other.x, self.y + other.y)\n",
        "\n",
        "    def __str__(self):\n",
        "        return f\"Vector({self.x}, {self.y})\"\n",
        "\n",
        "\n",
        "v1 = Vector(2, 3)\n",
        "v2 = Vector(4, 5)\n",
        "v3 = v1 + v2\n",
        "\n",
        "print(v3)\n"
      ],
      "metadata": {
        "colab": {
          "base_uri": "https://localhost:8080/"
        },
        "id": "U9idgH1zzXKg",
        "outputId": "7b1fa825-f0c5-4f6d-d342-c95cfc25408d"
      },
      "execution_count": 28,
      "outputs": [
        {
          "output_type": "stream",
          "name": "stdout",
          "text": [
            "Vector(6, 8)\n"
          ]
        }
      ]
    },
    {
      "cell_type": "code",
      "source": [
        "#11. Create a class person with attributes name and age. Add a method greet() that prints \"Hello, my name is {name} and I am [age} year old\".\n",
        "class Person:\n",
        "    def __init__(self, name, age):\n",
        "        self.name = name\n",
        "        self.age = age\n",
        "\n",
        "    def greet(self):\n",
        "        print(f\"Hello, my name is {self.name} and I am {self.age} years old.\")\n",
        "\n",
        "\n",
        "p = Person(\"Manisha\", 27)\n",
        "p.greet()\n"
      ],
      "metadata": {
        "colab": {
          "base_uri": "https://localhost:8080/"
        },
        "id": "JVIwSzC6z2q5",
        "outputId": "9120d9ef-7bc5-4642-b1a8-1865c2992fc3"
      },
      "execution_count": 29,
      "outputs": [
        {
          "output_type": "stream",
          "name": "stdout",
          "text": [
            "Hello, my name is Manisha and I am 27 years old.\n"
          ]
        }
      ]
    },
    {
      "cell_type": "code",
      "source": [
        "#12. implement a class student with attributes name and grade. Create a method aaverage _grade() to compute the average of the grades.\n",
        "class Student:\n",
        "    def __init__(self, name, grades):\n",
        "        self.name = name\n",
        "        self.grades = grades\n",
        "\n",
        "    def average_grade(self):\n",
        "        if not self.grades:\n",
        "            return 0\n",
        "        return sum(self.grades) / len(self.grades)\n",
        "\n",
        "\n",
        "s = Student(\"Adya\", [85, 90, 78, 92])\n",
        "print(f\"{s.name}'s average grade is: {s.average_grade():.2f}\")\n"
      ],
      "metadata": {
        "colab": {
          "base_uri": "https://localhost:8080/"
        },
        "id": "wBzPQHEO0pls",
        "outputId": "e64be7fa-01ce-4dc2-851e-c3c672b6cb2c"
      },
      "execution_count": 30,
      "outputs": [
        {
          "output_type": "stream",
          "name": "stdout",
          "text": [
            "Adya's average grade is: 86.25\n"
          ]
        }
      ]
    },
    {
      "cell_type": "code",
      "source": [
        "#13. Create a class rectangle with methods set __dimensions() to set the dimensions and area() to Calculate the area.\n",
        "class Rectangle:\n",
        "    def __init__(self):\n",
        "        self.width = 0\n",
        "        self.height = 0\n",
        "\n",
        "    def set_dimensions(self, width, height):\n",
        "        self.width = width\n",
        "        self.height = height\n",
        "\n",
        "    def area(self):\n",
        "        return self.width * self.height\n",
        "\n",
        "\n",
        "r = Rectangle()\n",
        "r.set_dimensions(5, 10)\n",
        "print(f\"The area of the rectangle is: {r.area()}\")\n",
        "\n"
      ],
      "metadata": {
        "colab": {
          "base_uri": "https://localhost:8080/"
        },
        "id": "ryD53AxQ1UwX",
        "outputId": "f6b4fcf7-65ac-4286-8cf9-cba33f99d0b3"
      },
      "execution_count": 31,
      "outputs": [
        {
          "output_type": "stream",
          "name": "stdout",
          "text": [
            "The area of the rectangle is: 50\n"
          ]
        }
      ]
    },
    {
      "cell_type": "code",
      "source": [
        "#14. Create a class Employees with a method calcuate __salary() that computes the salary based on hours worked and manager that adds a bonus to the salary.\n",
        "class Employees:\n",
        "    def __init__(self, name, hours_worked, hourly_rate):\n",
        "        self.name = name\n",
        "        self.hours_worked = hours_worked\n",
        "        self.hourly_rate = hourly_rate\n",
        "\n",
        "    def __calculate_salary(self):\n",
        "        return self.hours_worked * self.hourly_rate\n",
        "\n",
        "\n",
        "    def get_salary(self):\n",
        "        return self.__calculate_salary()\n",
        "\n",
        "\n",
        "class Manager(Employees):\n",
        "    def __init__(self, name, hours_worked, hourly_rate, bonus):\n",
        "        super().__init__(name, hours_worked, hourly_rate)\n",
        "        self.bonus = bonus\n",
        "\n",
        "    def get_salary(self):\n",
        "        base_salary = super().get_salary()\n",
        "        return base_salary + self.bonus\n",
        "\n",
        "\n",
        "\n",
        "employee = Employees(\"Alice\", 40, 20)\n",
        "print(f\"{employee.name}'s Salary: ${employee.get_salary()}\")\n",
        "\n",
        "manager = Manager(\"Bob\", 40, 30, 500)\n",
        "print(f\"{manager.name}'s Salary: ${manager.get_salary()}\")\n",
        "\n"
      ],
      "metadata": {
        "colab": {
          "base_uri": "https://localhost:8080/"
        },
        "id": "d2Izw_D82Mp-",
        "outputId": "a9d9c650-68b8-4df2-b170-84b0af3c80bd"
      },
      "execution_count": 32,
      "outputs": [
        {
          "output_type": "stream",
          "name": "stdout",
          "text": [
            "Alice's Salary: $800\n",
            "Bob's Salary: $1700\n"
          ]
        }
      ]
    },
    {
      "cell_type": "code",
      "source": [
        "#15. Create a class Product with attributes name, price, and quantity. Implement a method total_price() that calculates the total price of the product.\n",
        "class Product:\n",
        "    def __init__(self, name, price, quantity):\n",
        "        self.name = name\n",
        "        self.price = price\n",
        "        self.quantity = quantity\n",
        "\n",
        "    def total_price(self):\n",
        "        return self.price * self.quantity\n",
        "\n",
        "\n",
        "\n",
        "product1 = Product(\"Laptop\", 1200, 2)\n",
        "print(f\"Total price for {product1.quantity} {product1.name}(s): ${product1.total_price()}\")\n"
      ],
      "metadata": {
        "colab": {
          "base_uri": "https://localhost:8080/"
        },
        "id": "uSVQAR9S4pN8",
        "outputId": "924b0c26-bf94-40fa-f06a-baef9b14ea74"
      },
      "execution_count": 33,
      "outputs": [
        {
          "output_type": "stream",
          "name": "stdout",
          "text": [
            "Total price for 2 Laptop(s): $2400\n"
          ]
        }
      ]
    },
    {
      "cell_type": "code",
      "source": [
        "#16. Create a class Animal with an abstract method sound(). Create two derived classes Cow and Sheep that implement the sound() method.\n",
        "from abc import ABC, abstractmethod\n",
        "\n",
        "class Animal(ABC):\n",
        "    @abstractmethod\n",
        "    def sound(self):\n",
        "        pass\n",
        "\n",
        "\n",
        "class Cow(Animal):\n",
        "    def sound(self):\n",
        "        return \"Moo\"\n",
        "\n",
        "\n",
        "class Sheep(Animal):\n",
        "    def sound(self):\n",
        "        return \"Baa\"\n",
        "\n",
        "\n",
        "\n",
        "cow = Cow()\n",
        "print(f\"Cow says: {cow.sound()}\")\n",
        "\n",
        "sheep = Sheep()\n",
        "print(f\"Sheep says: {sheep.sound()}\")\n"
      ],
      "metadata": {
        "colab": {
          "base_uri": "https://localhost:8080/"
        },
        "id": "GeH9iQg-5AlM",
        "outputId": "2c26f6e1-9341-485e-a6f0-f0253bf077d4"
      },
      "execution_count": 34,
      "outputs": [
        {
          "output_type": "stream",
          "name": "stdout",
          "text": [
            "Cow says: Moo\n",
            "Sheep says: Baa\n"
          ]
        }
      ]
    },
    {
      "cell_type": "code",
      "source": [
        "#17. Create a class Book with attributes title, author, and year_published. Add a method get_book_info() that returns a formatted string with the book's details.\n",
        "class Book:\n",
        "    def __init__(self, title, author, year_published):\n",
        "        self.title = title\n",
        "        self.author = author\n",
        "        self.year_published = year_published\n",
        "\n",
        "    def get_book_info(self):\n",
        "        return f\"'{self.title}' by {self.author}, published in {self.year_published}.\"\n",
        "\n",
        "\n",
        "book1 = Book(\"1984\", \"George Orwell\", 1949)\n",
        "print(book1.get_book_info())\n"
      ],
      "metadata": {
        "colab": {
          "base_uri": "https://localhost:8080/"
        },
        "id": "fwwEUHhq5cD4",
        "outputId": "ad3857ea-e242-4567-883f-29841b80ecfe"
      },
      "execution_count": 35,
      "outputs": [
        {
          "output_type": "stream",
          "name": "stdout",
          "text": [
            "'1984' by George Orwell, published in 1949.\n"
          ]
        }
      ]
    },
    {
      "cell_type": "code",
      "source": [
        "#18. Create a class House with attributes address and price. Create a derived class Mansion that adds an attribute number_of_rooms.\n",
        "class House:\n",
        "    def __init__(self, address, price):\n",
        "        self.address = address\n",
        "        self.price = price\n",
        "\n",
        "    def get_info(self):\n",
        "        return f\"House located at {self.address} costs ${self.price}.\"\n",
        "\n",
        "\n",
        "class Mansion(House):\n",
        "    def __init__(self, address, price, number_of_rooms):\n",
        "        super().__init__(address, price)\n",
        "        self.number_of_rooms = number_of_rooms\n",
        "\n",
        "    def get_info(self):\n",
        "        return f\"Mansion located at {self.address} with {self.number_of_rooms} rooms costs ${self.price}.\"\n",
        "\n",
        "\n",
        "\n",
        "house = House(\"123 Elm St\", 250000)\n",
        "print(house.get_info())\n",
        "\n",
        "mansion = Mansion(\"456 Oak Ave\", 5000000, 12)\n",
        "print(mansion.get_info())\n"
      ],
      "metadata": {
        "colab": {
          "base_uri": "https://localhost:8080/"
        },
        "id": "mUit7ubl5wTk",
        "outputId": "72e58b1c-3487-4910-bcb0-6c2215f81d8f"
      },
      "execution_count": 36,
      "outputs": [
        {
          "output_type": "stream",
          "name": "stdout",
          "text": [
            "House located at 123 Elm St costs $250000.\n",
            "Mansion located at 456 Oak Ave with 12 rooms costs $5000000.\n"
          ]
        }
      ]
    },
    {
      "cell_type": "code",
      "source": [],
      "metadata": {
        "id": "4X8B9vPM6E3r"
      },
      "execution_count": null,
      "outputs": []
    }
  ]
}